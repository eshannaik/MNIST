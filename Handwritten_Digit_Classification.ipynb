{
  "nbformat": 4,
  "nbformat_minor": 0,
  "metadata": {
    "colab": {
      "name": "Handwritten Digit Classification.ipynb",
      "provenance": [],
      "collapsed_sections": []
    },
    "kernelspec": {
      "name": "python3",
      "display_name": "Python 3"
    },
    "language_info": {
      "name": "python"
    },
    "accelerator": "GPU"
  },
  "cells": [
    {
      "cell_type": "markdown",
      "metadata": {
        "id": "aHlV836QxSf8"
      },
      "source": [
        "# Handwritting Recognition"
      ]
    },
    {
      "cell_type": "markdown",
      "metadata": {
        "id": "dRjpWzW3xWO9"
      },
      "source": [
        "### Importing models and dataset "
      ]
    },
    {
      "cell_type": "code",
      "metadata": {
        "id": "5yPGJujQrnS6"
      },
      "source": [
        "from tkinter import *\n",
        "import pandas as pd\n",
        "import matplotlib.pyplot as plt\n",
        "import numpy as np\n",
        "import keras\n",
        "from keras.layers import Dense,Dropout,Flatten\n",
        "from keras.layers import Conv2D,MaxPooling2D,GRU\n",
        "from keras.datasets import mnist\n",
        "from keras.models import Sequential\n",
        "from keras import backend as K\n",
        "import tensorflow as tf"
      ],
      "execution_count": 86,
      "outputs": []
    },
    {
      "cell_type": "code",
      "metadata": {
        "id": "vmUjYkn2t9eB"
      },
      "source": [
        "(x_train,y_train),(x_test,y_test)=mnist.load_data()"
      ],
      "execution_count": 87,
      "outputs": []
    },
    {
      "cell_type": "code",
      "metadata": {
        "colab": {
          "base_uri": "https://localhost:8080/"
        },
        "id": "mVf2CWCVuuB1",
        "outputId": "848a4fd3-e684-4a18-b003-07ba1056b0c4"
      },
      "source": [
        "print(x_train.shape)"
      ],
      "execution_count": 88,
      "outputs": [
        {
          "output_type": "stream",
          "text": [
            "(60000, 28, 28)\n"
          ],
          "name": "stdout"
        }
      ]
    },
    {
      "cell_type": "code",
      "metadata": {
        "colab": {
          "base_uri": "https://localhost:8080/"
        },
        "id": "WoalbB8Uu4jb",
        "outputId": "9a5140d1-ee0b-465d-b71a-5ba2ca82084e"
      },
      "source": [
        "print(y_train.shape)"
      ],
      "execution_count": 89,
      "outputs": [
        {
          "output_type": "stream",
          "text": [
            "(60000,)\n"
          ],
          "name": "stdout"
        }
      ]
    },
    {
      "cell_type": "code",
      "metadata": {
        "colab": {
          "base_uri": "https://localhost:8080/"
        },
        "id": "Q2pYgob2u7mv",
        "outputId": "5d52a0cf-7144-40e7-b729-747b8d5f251a"
      },
      "source": [
        "x_train[:,1:2]"
      ],
      "execution_count": 90,
      "outputs": [
        {
          "output_type": "execute_result",
          "data": {
            "text/plain": [
              "array([[[0, 0, 0, ..., 0, 0, 0]],\n",
              "\n",
              "       [[0, 0, 0, ..., 0, 0, 0]],\n",
              "\n",
              "       [[0, 0, 0, ..., 0, 0, 0]],\n",
              "\n",
              "       ...,\n",
              "\n",
              "       [[0, 0, 0, ..., 0, 0, 0]],\n",
              "\n",
              "       [[0, 0, 0, ..., 0, 0, 0]],\n",
              "\n",
              "       [[0, 0, 0, ..., 0, 0, 0]]], dtype=uint8)"
            ]
          },
          "metadata": {
            "tags": []
          },
          "execution_count": 90
        }
      ]
    },
    {
      "cell_type": "markdown",
      "metadata": {
        "id": "O9FLi_kHxeG3"
      },
      "source": [
        "### Preprocessing"
      ]
    },
    {
      "cell_type": "code",
      "metadata": {
        "id": "DpQxlrDhvZkN"
      },
      "source": [
        "x_train2 = x_train.reshape(x_train.shape[0],28,28,1)\n",
        "x_test2 = x_test.reshape(x_test.shape[0],28,28,1)"
      ],
      "execution_count": 91,
      "outputs": []
    },
    {
      "cell_type": "code",
      "metadata": {
        "id": "dJ9rN1UuvuOu"
      },
      "source": [
        "input = (28,28,1)"
      ],
      "execution_count": 92,
      "outputs": []
    },
    {
      "cell_type": "code",
      "metadata": {
        "id": "7Xri29YrxxWO"
      },
      "source": [
        "y_train2 = keras.utils.to_categorical(y_train,10)\n",
        "y_test2 = keras.utils.to_categorical(y_test,10)"
      ],
      "execution_count": 93,
      "outputs": []
    },
    {
      "cell_type": "code",
      "metadata": {
        "id": "TvOxmA2Ux97n"
      },
      "source": [
        "x_train2 = x_train2.astype('float32')\n",
        "x_test2 = x_test2.astype('float32')"
      ],
      "execution_count": 94,
      "outputs": []
    },
    {
      "cell_type": "code",
      "metadata": {
        "id": "vq3sTxKs1y3E"
      },
      "source": [
        "x_train2 = x_train2/255\n",
        "x_test2 = x_test2/255"
      ],
      "execution_count": 95,
      "outputs": []
    },
    {
      "cell_type": "code",
      "metadata": {
        "colab": {
          "base_uri": "https://localhost:8080/"
        },
        "id": "b1-54jW2yOvC",
        "outputId": "729eb03c-38a9-4e15-ebc9-4b061b9d1cbe"
      },
      "source": [
        "x_train2.shape"
      ],
      "execution_count": 96,
      "outputs": [
        {
          "output_type": "execute_result",
          "data": {
            "text/plain": [
              "(60000, 28, 28, 1)"
            ]
          },
          "metadata": {
            "tags": []
          },
          "execution_count": 96
        }
      ]
    },
    {
      "cell_type": "code",
      "metadata": {
        "colab": {
          "base_uri": "https://localhost:8080/"
        },
        "id": "_JU6wQq2yRvu",
        "outputId": "d30c48f5-51ba-4f89-fc05-ccd4a4c219be"
      },
      "source": [
        "x_test2.shape"
      ],
      "execution_count": 97,
      "outputs": [
        {
          "output_type": "execute_result",
          "data": {
            "text/plain": [
              "(10000, 28, 28, 1)"
            ]
          },
          "metadata": {
            "tags": []
          },
          "execution_count": 97
        }
      ]
    },
    {
      "cell_type": "code",
      "metadata": {
        "colab": {
          "base_uri": "https://localhost:8080/"
        },
        "id": "IquvDKvOyVwg",
        "outputId": "4b5ac7b3-5539-4fac-97ef-b7f083f42396"
      },
      "source": [
        "y_train2.shape"
      ],
      "execution_count": 98,
      "outputs": [
        {
          "output_type": "execute_result",
          "data": {
            "text/plain": [
              "(60000, 10)"
            ]
          },
          "metadata": {
            "tags": []
          },
          "execution_count": 98
        }
      ]
    },
    {
      "cell_type": "code",
      "metadata": {
        "colab": {
          "base_uri": "https://localhost:8080/"
        },
        "id": "uAd25pxhyaLp",
        "outputId": "0bc30e97-89c4-4937-a3d9-aa501dae8438"
      },
      "source": [
        "y_test2.shape"
      ],
      "execution_count": 99,
      "outputs": [
        {
          "output_type": "execute_result",
          "data": {
            "text/plain": [
              "(10000, 10)"
            ]
          },
          "metadata": {
            "tags": []
          },
          "execution_count": 99
        }
      ]
    },
    {
      "cell_type": "markdown",
      "metadata": {
        "id": "C4Y3YXFIxNY1"
      },
      "source": [
        "## CNN"
      ]
    },
    {
      "cell_type": "code",
      "metadata": {
        "id": "pBi59kndynSh"
      },
      "source": [
        "bs = 64\n",
        "e=10\n",
        "num_classes = 10"
      ],
      "execution_count": 100,
      "outputs": []
    },
    {
      "cell_type": "code",
      "metadata": {
        "colab": {
          "base_uri": "https://localhost:8080/"
        },
        "id": "qX2M-jrgvww7",
        "outputId": "08e8e417-169e-4717-c88c-dfc940794a1b"
      },
      "source": [
        "model = Sequential()\n",
        "\n",
        "model.add(Conv2D(32,kernel_size=(3,3),padding='same',activation='relu',input_shape=input))\n",
        "model.add(MaxPooling2D(pool_size=(2,2)))\n",
        "model.add(Conv2D(64,kernel_size=(3,3),padding='same',activation='relu'))\n",
        "model.add(MaxPooling2D(pool_size=(2,2)))\n",
        "model.add(Conv2D(64,kernel_size=(3,3),padding='same',activation='relu'))\n",
        "model.add(MaxPooling2D(pool_size=(2,2)))\n",
        "model.add(Flatten())\n",
        "model.add(Dense(128,activation='relu'))\n",
        "model.add(Dropout(0.5))\n",
        "model.add(Dense(128,activation='relu'))\n",
        "model.add(Dropout(0.5))\n",
        "model.add(Dense(num_classes,activation='softmax'))\n",
        "\n",
        "model.compile(optimizer='adam',loss='categorical_crossentropy',metrics=['accuracy'])\n",
        "\n",
        "model.summary()"
      ],
      "execution_count": 101,
      "outputs": [
        {
          "output_type": "stream",
          "text": [
            "Model: \"sequential_5\"\n",
            "_________________________________________________________________\n",
            "Layer (type)                 Output Shape              Param #   \n",
            "=================================================================\n",
            "conv2d_6 (Conv2D)            (None, 28, 28, 32)        320       \n",
            "_________________________________________________________________\n",
            "max_pooling2d_6 (MaxPooling2 (None, 14, 14, 32)        0         \n",
            "_________________________________________________________________\n",
            "conv2d_7 (Conv2D)            (None, 14, 14, 64)        18496     \n",
            "_________________________________________________________________\n",
            "max_pooling2d_7 (MaxPooling2 (None, 7, 7, 64)          0         \n",
            "_________________________________________________________________\n",
            "conv2d_8 (Conv2D)            (None, 7, 7, 64)          36928     \n",
            "_________________________________________________________________\n",
            "max_pooling2d_8 (MaxPooling2 (None, 3, 3, 64)          0         \n",
            "_________________________________________________________________\n",
            "flatten_2 (Flatten)          (None, 576)               0         \n",
            "_________________________________________________________________\n",
            "dense_9 (Dense)              (None, 128)               73856     \n",
            "_________________________________________________________________\n",
            "dropout_16 (Dropout)         (None, 128)               0         \n",
            "_________________________________________________________________\n",
            "dense_10 (Dense)             (None, 128)               16512     \n",
            "_________________________________________________________________\n",
            "dropout_17 (Dropout)         (None, 128)               0         \n",
            "_________________________________________________________________\n",
            "dense_11 (Dense)             (None, 10)                1290      \n",
            "=================================================================\n",
            "Total params: 147,402\n",
            "Trainable params: 147,402\n",
            "Non-trainable params: 0\n",
            "_________________________________________________________________\n"
          ],
          "name": "stdout"
        }
      ]
    },
    {
      "cell_type": "code",
      "metadata": {
        "colab": {
          "base_uri": "https://localhost:8080/"
        },
        "id": "ZIJnlRf02qYt",
        "outputId": "7eeab0b2-8d6b-4a6d-c263-e9b1d5e9438c"
      },
      "source": [
        "history=model.fit(x_train2,y_train2,batch_size=bs,epochs=e,validation_data=(x_test2,y_test2))"
      ],
      "execution_count": 102,
      "outputs": [
        {
          "output_type": "stream",
          "text": [
            "Epoch 1/10\n",
            "938/938 [==============================] - 9s 9ms/step - loss: 0.7947 - accuracy: 0.7294 - val_loss: 0.0506 - val_accuracy: 0.9845\n",
            "Epoch 2/10\n",
            "938/938 [==============================] - 8s 8ms/step - loss: 0.1094 - accuracy: 0.9712 - val_loss: 0.0445 - val_accuracy: 0.9869\n",
            "Epoch 3/10\n",
            "938/938 [==============================] - 8s 8ms/step - loss: 0.0814 - accuracy: 0.9777 - val_loss: 0.0278 - val_accuracy: 0.9918\n",
            "Epoch 4/10\n",
            "938/938 [==============================] - 8s 8ms/step - loss: 0.0647 - accuracy: 0.9845 - val_loss: 0.0333 - val_accuracy: 0.9900\n",
            "Epoch 5/10\n",
            "938/938 [==============================] - 8s 8ms/step - loss: 0.0489 - accuracy: 0.9869 - val_loss: 0.0327 - val_accuracy: 0.9911\n",
            "Epoch 6/10\n",
            "938/938 [==============================] - 8s 8ms/step - loss: 0.0424 - accuracy: 0.9882 - val_loss: 0.0256 - val_accuracy: 0.9930\n",
            "Epoch 7/10\n",
            "938/938 [==============================] - 8s 8ms/step - loss: 0.0331 - accuracy: 0.9915 - val_loss: 0.0290 - val_accuracy: 0.9925\n",
            "Epoch 8/10\n",
            "938/938 [==============================] - 8s 8ms/step - loss: 0.0319 - accuracy: 0.9914 - val_loss: 0.0241 - val_accuracy: 0.9936\n",
            "Epoch 9/10\n",
            "938/938 [==============================] - 8s 8ms/step - loss: 0.0266 - accuracy: 0.9924 - val_loss: 0.0282 - val_accuracy: 0.9924\n",
            "Epoch 10/10\n",
            "938/938 [==============================] - 8s 8ms/step - loss: 0.0276 - accuracy: 0.9933 - val_loss: 0.0264 - val_accuracy: 0.9937\n"
          ],
          "name": "stdout"
        }
      ]
    },
    {
      "cell_type": "code",
      "metadata": {
        "colab": {
          "base_uri": "https://localhost:8080/",
          "height": 0
        },
        "id": "B5Z-m0NLq69q",
        "outputId": "6bd0e635-0d78-4ea9-fad3-9ee231a6c598"
      },
      "source": [
        "plt.plot(history.history['loss'], label='train')\n",
        "plt.plot(history.history['val_loss'], label='test')\n",
        "plt.legend()\n",
        "plt.show()"
      ],
      "execution_count": 103,
      "outputs": [
        {
          "output_type": "display_data",
          "data": {
            "image/png": "[encoded data removed]",
            "text/plain": [
              "<Figure size 432x288 with 1 Axes>"
            ]
          },
          "metadata": {
            "tags": [],
            "needs_background": "light"
          }
        }
      ]
    },
    {
      "cell_type": "code",
      "metadata": {
        "colab": {
          "base_uri": "https://localhost:8080/"
        },
        "id": "G-1cj_cwxkug",
        "outputId": "a6ac5bd1-36bf-4572-ff7c-f7b69a8be051"
      },
      "source": [
        "s = model.evaluate (x_test2,y_test2)\n",
        "s[0]=s[0]*100\n",
        "s[1]=s[1]*100\n",
        "print('Test loss:', s[0])\n",
        "print('Test accuracy:', s[1])"
      ],
      "execution_count": 104,
      "outputs": [
        {
          "output_type": "stream",
          "text": [
            "313/313 [==============================] - 1s 3ms/step - loss: 0.0264 - accuracy: 0.9937\n",
            "Test loss: 2.643417753279209\n",
            "Test accuracy: 99.37000274658203\n"
          ],
          "name": "stdout"
        }
      ]
    },
    {
      "cell_type": "code",
      "metadata": {
        "id": "XIs9renzxraI"
      },
      "source": [
        "model.save('mnist_cnn.h5')"
      ],
      "execution_count": 105,
      "outputs": []
    },
    {
      "cell_type": "markdown",
      "metadata": {
        "id": "NHxkP160xJqG"
      },
      "source": [
        "## GRU"
      ]
    },
    {
      "cell_type": "code",
      "metadata": {
        "id": "9gMQnfQYL2mI"
      },
      "source": [
        "x_train1 = x_train.reshape(x_train.shape[0],28,x_train.shape[1])\n",
        "x_test1 = x_test.reshape(x_test.shape[0],28,x_test.shape[1])"
      ],
      "execution_count": 106,
      "outputs": []
    },
    {
      "cell_type": "code",
      "metadata": {
        "colab": {
          "base_uri": "https://localhost:8080/"
        },
        "id": "StHg0MT2Omsz",
        "outputId": "64d0ecd1-0eeb-4664-f9c1-7fd0724afe2f"
      },
      "source": [
        "x_train1.shape"
      ],
      "execution_count": 107,
      "outputs": [
        {
          "output_type": "execute_result",
          "data": {
            "text/plain": [
              "(60000, 28, 28)"
            ]
          },
          "metadata": {
            "tags": []
          },
          "execution_count": 107
        }
      ]
    },
    {
      "cell_type": "code",
      "metadata": {
        "id": "6LrikGbqNBRq"
      },
      "source": [
        "y_train1 = y_train.reshape(y_train.shape[0],1,1)\n",
        "y_test1 = y_test.reshape(y_test.shape[0],1,1)"
      ],
      "execution_count": 108,
      "outputs": []
    },
    {
      "cell_type": "code",
      "metadata": {
        "colab": {
          "base_uri": "https://localhost:8080/"
        },
        "id": "ojDPBhqAOpCo",
        "outputId": "1f4f253c-3a29-4a45-87c4-15cf2118ba96"
      },
      "source": [
        "y_train1.shape"
      ],
      "execution_count": 109,
      "outputs": [
        {
          "output_type": "execute_result",
          "data": {
            "text/plain": [
              "(60000, 1, 1)"
            ]
          },
          "metadata": {
            "tags": []
          },
          "execution_count": 109
        }
      ]
    },
    {
      "cell_type": "code",
      "metadata": {
        "colab": {
          "base_uri": "https://localhost:8080/"
        },
        "id": "n2f0LsNFKcQu",
        "outputId": "bc15637d-7b8e-4a26-f5ec-085af7db737c"
      },
      "source": [
        "import warnings\n",
        "warnings.filterwarnings(\"ignore\")\n",
        "\n",
        "epochs = 5\n",
        "\n",
        "model1 = Sequential()\n",
        "\n",
        "model1.add(GRU(units=50,return_sequences=True,input_shape=(x_train.shape[0],x_train.shape[1])))\n",
        "model1.add(Dropout(0.3))\n",
        "model1.add(GRU(units=5,return_sequences=True))\n",
        "model1.add(Dropout(0.3))\n",
        "model1.add(GRU(units=50,return_sequences=True))\n",
        "model1.add(Dropout(0.3))\n",
        "model1.add(GRU(units=50))\n",
        "model1.add(Dropout(0.3))\n",
        "model1.add(Dense(units=9))\n",
        "\n",
        "model1.compile(optimizer='adam',loss='mse',metrics= ['accuracy'])\n",
        "\n",
        "history=model1.fit(x_train1,y_train1, batch_size = 32, epochs = epochs,validation_data=(x_test1, y_test1))"
      ],
      "execution_count": 110,
      "outputs": [
        {
          "output_type": "stream",
          "text": [
            "Epoch 1/5\n",
            "WARNING:tensorflow:Model was constructed with shape (None, 60000, 28) for input KerasTensor(type_spec=TensorSpec(shape=(None, 60000, 28), dtype=tf.float32, name='gru_12_input'), name='gru_12_input', description=\"created by layer 'gru_12_input'\"), but it was called on an input with incompatible shape (32, 28, 28).\n",
            "WARNING:tensorflow:Model was constructed with shape (None, 60000, 28) for input KerasTensor(type_spec=TensorSpec(shape=(None, 60000, 28), dtype=tf.float32, name='gru_12_input'), name='gru_12_input', description=\"created by layer 'gru_12_input'\"), but it was called on an input with incompatible shape (32, 28, 28).\n",
            "1875/1875 [==============================] - ETA: 0s - loss: 7.6789 - accuracy: 0.1069WARNING:tensorflow:Model was constructed with shape (None, 60000, 28) for input KerasTensor(type_spec=TensorSpec(shape=(None, 60000, 28), dtype=tf.float32, name='gru_12_input'), name='gru_12_input', description=\"created by layer 'gru_12_input'\"), but it was called on an input with incompatible shape (None, 28, 28).\n",
            "1875/1875 [==============================] - 76s 38ms/step - loss: 7.6774 - accuracy: 0.1069 - val_loss: 2.1815 - val_accuracy: 0.1163\n",
            "Epoch 2/5\n",
            "1875/1875 [==============================] - 70s 38ms/step - loss: 2.4761 - accuracy: 0.1108 - val_loss: 1.5207 - val_accuracy: 0.0846\n",
            "Epoch 3/5\n",
            "1875/1875 [==============================] - 70s 38ms/step - loss: 1.9076 - accuracy: 0.1040 - val_loss: 1.1526 - val_accuracy: 0.0998\n",
            "Epoch 4/5\n",
            "1875/1875 [==============================] - 70s 37ms/step - loss: 1.5646 - accuracy: 0.0937 - val_loss: 1.0228 - val_accuracy: 0.1083\n",
            "Epoch 5/5\n",
            "1875/1875 [==============================] - 70s 37ms/step - loss: 1.3439 - accuracy: 0.0985 - val_loss: 0.9160 - val_accuracy: 0.0869\n"
          ],
          "name": "stdout"
        }
      ]
    },
    {
      "cell_type": "code",
      "metadata": {
        "colab": {
          "base_uri": "https://localhost:8080/"
        },
        "id": "viKaYJiSTKof",
        "outputId": "551411f3-1cb3-4fd7-fd36-19d0aea33135"
      },
      "source": [
        "model1.summary()"
      ],
      "execution_count": 111,
      "outputs": [
        {
          "output_type": "stream",
          "text": [
            "Model: \"sequential_6\"\n",
            "_________________________________________________________________\n",
            "Layer (type)                 Output Shape              Param #   \n",
            "=================================================================\n",
            "gru_12 (GRU)                 (None, 60000, 50)         12000     \n",
            "_________________________________________________________________\n",
            "dropout_18 (Dropout)         (None, 60000, 50)         0         \n",
            "_________________________________________________________________\n",
            "gru_13 (GRU)                 (None, 60000, 5)          855       \n",
            "_________________________________________________________________\n",
            "dropout_19 (Dropout)         (None, 60000, 5)          0         \n",
            "_________________________________________________________________\n",
            "gru_14 (GRU)                 (None, 60000, 50)         8550      \n",
            "_________________________________________________________________\n",
            "dropout_20 (Dropout)         (None, 60000, 50)         0         \n",
            "_________________________________________________________________\n",
            "gru_15 (GRU)                 (None, 50)                15300     \n",
            "_________________________________________________________________\n",
            "dropout_21 (Dropout)         (None, 50)                0         \n",
            "_________________________________________________________________\n",
            "dense_12 (Dense)             (None, 9)                 459       \n",
            "=================================================================\n",
            "Total params: 37,164\n",
            "Trainable params: 37,164\n",
            "Non-trainable params: 0\n",
            "_________________________________________________________________\n"
          ],
          "name": "stdout"
        }
      ]
    },
    {
      "cell_type": "code",
      "metadata": {
        "colab": {
          "base_uri": "https://localhost:8080/",
          "height": 266
        },
        "id": "qyIMEYLmq-9p",
        "outputId": "91552c71-2ea0-4235-ef39-3f28a6046e99"
      },
      "source": [
        "plt.plot(history.history['loss'], label='train')\n",
        "plt.plot(history.history['val_loss'], label='test')\n",
        "plt.legend()\n",
        "plt.show()"
      ],
      "execution_count": 112,
      "outputs": [
        {
          "output_type": "display_data",
          "data": {
            "image/png": "[encoded data removed]",
            "text/plain": [
              "<Figure size 432x288 with 1 Axes>"
            ]
          },
          "metadata": {
            "tags": [],
            "needs_background": "light"
          }
        }
      ]
    },
    {
      "cell_type": "code",
      "metadata": {
        "colab": {
          "base_uri": "https://localhost:8080/"
        },
        "id": "8cVAIwuSSGvo",
        "outputId": "ac6887a1-b81e-4e86-907c-4a2edde00941"
      },
      "source": [
        "s1 = model1.evaluate (x_test,y_test)\n",
        "s1[0]=s1[0]*100\n",
        "s1[1]=s1[1]*100\n",
        "print('Test loss:', s1[0])\n",
        "print('Test accuracy:', s1[1])"
      ],
      "execution_count": 113,
      "outputs": [
        {
          "output_type": "stream",
          "text": [
            "WARNING:tensorflow:Model was constructed with shape (None, 60000, 28) for input KerasTensor(type_spec=TensorSpec(shape=(None, 60000, 28), dtype=tf.float32, name='gru_12_input'), name='gru_12_input', description=\"created by layer 'gru_12_input'\"), but it was called on an input with incompatible shape (None, 28, 28).\n",
            "313/313 [==============================] - 5s 13ms/step - loss: 0.9160 - accuracy: 0.0869\n",
            "Test loss: 91.59550666809082\n",
            "Test accuracy: 8.69000032544136\n"
          ],
          "name": "stdout"
        }
      ]
    },
    {
      "cell_type": "code",
      "metadata": {
        "id": "DAkA_uQlSlQj"
      },
      "source": [
        "model1.save('mnist_gru.h5')"
      ],
      "execution_count": 114,
      "outputs": []
    }
  ]
}